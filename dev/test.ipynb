{
 "cells": [
  {
   "cell_type": "markdown",
   "metadata": {},
   "source": [
    "# Ploting different new features"
   ]
  },
  {
   "cell_type": "code",
   "execution_count": 1,
   "metadata": {},
   "outputs": [],
   "source": [
    "import numpy as np\n",
    "import pandas as pd\n",
    "import matplotlib.pyplot as plt\n",
    "import matplotlib as mpl\n",
    "mpl.style.use('seaborn')\n",
    "\n",
    "import sys\n",
    "sys.path.append(\"..\") # Adds higher directory to python modules path.\n",
    "from ta import *"
   ]
  },
  {
   "cell_type": "code",
   "execution_count": 2,
   "metadata": {},
   "outputs": [],
   "source": [
    "# Load data\n",
    "df = pd.read_csv('../data/datas.csv', sep=',')\n",
    "df = utils.dropna(df)"
   ]
  },
  {
   "cell_type": "code",
   "execution_count": 3,
   "metadata": {},
   "outputs": [
    {
     "data": {
      "text/plain": [
       "(46306, 8)"
      ]
     },
     "execution_count": 3,
     "metadata": {},
     "output_type": "execute_result"
    }
   ],
   "source": [
    "df.shape"
   ]
  },
  {
   "cell_type": "code",
   "execution_count": 4,
   "metadata": {},
   "outputs": [
    {
     "data": {
      "text/html": [
       "<div>\n",
       "<style scoped>\n",
       "    .dataframe tbody tr th:only-of-type {\n",
       "        vertical-align: middle;\n",
       "    }\n",
       "\n",
       "    .dataframe tbody tr th {\n",
       "        vertical-align: top;\n",
       "    }\n",
       "\n",
       "    .dataframe thead th {\n",
       "        text-align: right;\n",
       "    }\n",
       "</style>\n",
       "<table border=\"1\" class=\"dataframe\">\n",
       "  <thead>\n",
       "    <tr style=\"text-align: right;\">\n",
       "      <th></th>\n",
       "      <th>Timestamp</th>\n",
       "      <th>Open</th>\n",
       "      <th>High</th>\n",
       "      <th>Low</th>\n",
       "      <th>Close</th>\n",
       "      <th>Volume_BTC</th>\n",
       "      <th>Volume_Currency</th>\n",
       "      <th>Weighted_Price</th>\n",
       "    </tr>\n",
       "  </thead>\n",
       "  <tbody>\n",
       "    <tr>\n",
       "      <th>0</th>\n",
       "      <td>1315918800</td>\n",
       "      <td>5.80</td>\n",
       "      <td>6.00</td>\n",
       "      <td>5.80</td>\n",
       "      <td>6.00</td>\n",
       "      <td>25.000000</td>\n",
       "      <td>149.190000</td>\n",
       "      <td>5.967600</td>\n",
       "    </tr>\n",
       "    <tr>\n",
       "      <th>1</th>\n",
       "      <td>1315922400</td>\n",
       "      <td>5.95</td>\n",
       "      <td>5.95</td>\n",
       "      <td>5.76</td>\n",
       "      <td>5.76</td>\n",
       "      <td>22.353982</td>\n",
       "      <td>132.041023</td>\n",
       "      <td>5.906823</td>\n",
       "    </tr>\n",
       "    <tr>\n",
       "      <th>2</th>\n",
       "      <td>1315926000</td>\n",
       "      <td>5.65</td>\n",
       "      <td>5.65</td>\n",
       "      <td>5.65</td>\n",
       "      <td>5.65</td>\n",
       "      <td>2.542000</td>\n",
       "      <td>14.362300</td>\n",
       "      <td>5.650000</td>\n",
       "    </tr>\n",
       "    <tr>\n",
       "      <th>6</th>\n",
       "      <td>1315940400</td>\n",
       "      <td>5.92</td>\n",
       "      <td>5.97</td>\n",
       "      <td>5.92</td>\n",
       "      <td>5.97</td>\n",
       "      <td>8.475400</td>\n",
       "      <td>50.504066</td>\n",
       "      <td>5.958901</td>\n",
       "    </tr>\n",
       "    <tr>\n",
       "      <th>18</th>\n",
       "      <td>1315983600</td>\n",
       "      <td>5.58</td>\n",
       "      <td>5.62</td>\n",
       "      <td>5.54</td>\n",
       "      <td>5.62</td>\n",
       "      <td>16.425700</td>\n",
       "      <td>91.537032</td>\n",
       "      <td>5.572793</td>\n",
       "    </tr>\n",
       "  </tbody>\n",
       "</table>\n",
       "</div>"
      ],
      "text/plain": [
       "     Timestamp  Open  High   Low  Close  Volume_BTC  Volume_Currency  \\\n",
       "0   1315918800  5.80  6.00  5.80   6.00   25.000000       149.190000   \n",
       "1   1315922400  5.95  5.95  5.76   5.76   22.353982       132.041023   \n",
       "2   1315926000  5.65  5.65  5.65   5.65    2.542000        14.362300   \n",
       "6   1315940400  5.92  5.97  5.92   5.97    8.475400        50.504066   \n",
       "18  1315983600  5.58  5.62  5.54   5.62   16.425700        91.537032   \n",
       "\n",
       "    Weighted_Price  \n",
       "0         5.967600  \n",
       "1         5.906823  \n",
       "2         5.650000  \n",
       "6         5.958901  \n",
       "18        5.572793  "
      ]
     },
     "execution_count": 4,
     "metadata": {},
     "output_type": "execute_result"
    }
   ],
   "source": [
    "df.head()"
   ]
  },
  {
   "cell_type": "code",
   "execution_count": 5,
   "metadata": {},
   "outputs": [],
   "source": [
    "df['hband'] = bollinger_hband(df[\"Close\"], n=14, fillna=False)\n",
    "df['lband'] = bollinger_lband(df[\"Close\"], n=14, fillna=False)"
   ]
  },
  {
   "cell_type": "code",
   "execution_count": 6,
   "metadata": {},
   "outputs": [
    {
     "data": {
      "text/plain": [
       "<matplotlib.axes._subplots.AxesSubplot at 0x10f4db358>"
      ]
     },
     "execution_count": 6,
     "metadata": {},
     "output_type": "execute_result"
    },
    {
     "data": {
      "image/png": "[encoded data removed]",
      "text/plain": [
       "<matplotlib.figure.Figure at 0x10f4b1d68>"
      ]
     },
     "metadata": {},
     "output_type": "display_data"
    }
   ],
   "source": [
    "df[['Close', 'hband', 'lband']][400:450].plot()"
   ]
  },
  {
   "cell_type": "code",
   "execution_count": 7,
   "metadata": {},
   "outputs": [
    {
     "name": "stderr",
     "output_type": "stream",
     "text": [
      "../ta/trend.py:170: RuntimeWarning: invalid value encountered in double_scalars\n",
      "  dip[i] = 100 * (dip_mio[i]/trs[i])\n",
      "../ta/trend.py:174: RuntimeWarning: invalid value encountered in double_scalars\n",
      "  din[i] = 100 * (din_mio[i]/trs[i])\n",
      "../ta/trend.py:634: FutureWarning: Currently, 'apply' passes the values as ndarrays to the applied function. In the future, this will change to passing it as Series objects. You need to specify 'raw=True' to keep the current behaviour, and you can pass 'raw=False' to silence this warning\n",
      "  aroon_up = close.rolling(n).apply(lambda x: float(np.argmax(x) + 1) / n * 100)\n",
      "../ta/trend.py:656: FutureWarning: Currently, 'apply' passes the values as ndarrays to the applied function. In the future, this will change to passing it as Series objects. You need to specify 'raw=True' to keep the current behaviour, and you can pass 'raw=False' to silence this warning\n",
      "  aroon_down = close.rolling(n).apply(lambda x: float(np.argmin(x) + 1) / n * 100)\n"
     ]
    },
    {
     "data": {
      "text/plain": [
       "Timestamp                   0\n",
       "Open                        0\n",
       "High                        0\n",
       "Low                         0\n",
       "Close                       0\n",
       "Volume_BTC                  0\n",
       "Volume_Currency             0\n",
       "Weighted_Price              0\n",
       "hband                      13\n",
       "lband                      13\n",
       "volume_adi                  0\n",
       "volume_obv                  0\n",
       "volume_obvm                 0\n",
       "volume_cmf                  0\n",
       "volume_fi                   0\n",
       "volume_em                   0\n",
       "volume_vpt                  0\n",
       "volume_nvi                  0\n",
       "volatility_atr              0\n",
       "volatility_bbh              0\n",
       "volatility_bbl              0\n",
       "volatility_bbm              0\n",
       "volatility_bbhi             0\n",
       "volatility_bbli             0\n",
       "volatility_kcc              0\n",
       "volatility_kch              0\n",
       "volatility_kcl              0\n",
       "volatility_kchi             0\n",
       "volatility_kcli             0\n",
       "volatility_dch              0\n",
       "                           ..\n",
       "trend_adx_pos               0\n",
       "trend_adx_neg               0\n",
       "trend_vortex_ind_pos        0\n",
       "trend_vortex_ind_neg        0\n",
       "trend_vortex_diff           0\n",
       "trend_trix                  0\n",
       "trend_mass_index            0\n",
       "trend_cci                   0\n",
       "trend_dpo                   0\n",
       "trend_kst                   0\n",
       "trend_kst_sig               0\n",
       "trend_kst_diff              0\n",
       "trend_ichimoku_a            0\n",
       "trend_ichimoku_b            0\n",
       "trend_visual_ichimoku_a     0\n",
       "trend_visual_ichimoku_b     0\n",
       "trend_aroon_up              0\n",
       "trend_aroon_down            0\n",
       "trend_aroon_ind             0\n",
       "momentum_rsi                0\n",
       "momentum_mfi                0\n",
       "momentum_tsi                0\n",
       "momentum_uo                 0\n",
       "momentum_stoch              0\n",
       "momentum_stoch_signal       0\n",
       "momentum_wr                 0\n",
       "momentum_ao                 0\n",
       "others_dr                   0\n",
       "others_dlr                  0\n",
       "others_cr                   0\n",
       "Length: 69, dtype: int64"
      ]
     },
     "execution_count": 7,
     "metadata": {},
     "output_type": "execute_result"
    }
   ],
   "source": [
    "# Add all ta features filling nans values\n",
    "df = add_all_ta_features(df, \"Open\", \"High\", \"Low\", \"Close\", \"Volume_BTC\", fillna=True)\n",
    "df.isnull().sum()"
   ]
  },
  {
   "cell_type": "markdown",
   "metadata": {},
   "source": [
    "# Ploting some volatility features"
   ]
  },
  {
   "cell_type": "markdown",
   "metadata": {},
   "source": [
    "### Bollinger Bands"
   ]
  },
  {
   "cell_type": "code",
   "execution_count": null,
   "metadata": {},
   "outputs": [],
   "source": [
    "plt.plot(df[40700:41000].Close)\n",
    "plt.plot(df[40700:41000].volatility_bbh, label='High BB')\n",
    "plt.plot(df[40700:41000].volatility_bbl, label='Low BB')\n",
    "plt.plot(df[40700:41000].volatility_bbm, label='EMA BB')\n",
    "plt.title('Bollinger Bands')\n",
    "plt.legend()\n",
    "plt.show()"
   ]
  },
  {
   "cell_type": "markdown",
   "metadata": {},
   "source": [
    "### Keltner Channel"
   ]
  },
  {
   "cell_type": "code",
   "execution_count": null,
   "metadata": {},
   "outputs": [],
   "source": [
    "plt.plot(df[40500: 41000].Close)\n",
    "plt.plot(df[40500: 41000].volatility_kcc, label='Central KC')\n",
    "plt.plot(df[40500: 41000].volatility_kch, label='High KC')\n",
    "plt.plot(df[40500: 41000].volatility_kcl, label='Low KC')\n",
    "plt.title('Keltner Channel')\n",
    "plt.legend()\n",
    "plt.show()"
   ]
  },
  {
   "cell_type": "markdown",
   "metadata": {},
   "source": [
    "### Donchian Channel"
   ]
  },
  {
   "cell_type": "code",
   "execution_count": null,
   "metadata": {},
   "outputs": [],
   "source": [
    "plt.plot(df[40500: 41000].Close)\n",
    "plt.plot(df[40500: 41000].volatility_dch, label='High DC')\n",
    "plt.plot(df[40500: 41000].volatility_dcl, label='Low DC')\n",
    "plt.title('Donchian Channel')\n",
    "plt.legend()\n",
    "plt.show()"
   ]
  },
  {
   "cell_type": "markdown",
   "metadata": {},
   "source": [
    "# Ploting trend features"
   ]
  },
  {
   "cell_type": "markdown",
   "metadata": {},
   "source": [
    "### MACD"
   ]
  },
  {
   "cell_type": "code",
   "execution_count": null,
   "metadata": {},
   "outputs": [],
   "source": [
    "plt.plot(df[40500:41000].trend_macd, label='MACD')\n",
    "plt.plot(df[40500:41000].trend_macd_signal, label='MACD Signal')\n",
    "plt.plot(df[40500:41000].trend_macd_diff, label='MACD Difference')\n",
    "plt.title('MACD, MACD Signal and MACD Difference')\n",
    "plt.legend()\n",
    "plt.show()"
   ]
  },
  {
   "cell_type": "markdown",
   "metadata": {},
   "source": [
    "### KST"
   ]
  },
  {
   "cell_type": "code",
   "execution_count": null,
   "metadata": {},
   "outputs": [],
   "source": [
    "plt.plot(df[40700:41000].trend_kst, label='KST')\n",
    "plt.plot(df[40700:41000].trend_kst_sig, label='KST Signal')\n",
    "plt.plot(df[40700:41000].trend_kst_diff, label='KST - KST Signal')\n",
    "plt.title('Know Sure Thing (KST)')\n",
    "plt.legend()\n",
    "plt.show()\n",
    "#plt.savefig('test.png', bbox_inches='tight')"
   ]
  },
  {
   "cell_type": "markdown",
   "metadata": {},
   "source": [
    "### Ichimoku Kinkō Hyō"
   ]
  },
  {
   "cell_type": "code",
   "execution_count": null,
   "metadata": {},
   "outputs": [],
   "source": [
    "plt.plot(df[40500:41000].Close)\n",
    "plt.plot(df[40500:41000].trend_ichimoku_a, label='Ichimoku a')\n",
    "plt.plot(df[40500:41000].trend_ichimoku_b, label='Ichimoku b')\n",
    "plt.title('Ichimoku Kinko Hyo')\n",
    "plt.legend()\n",
    "plt.show()"
   ]
  },
  {
   "cell_type": "markdown",
   "metadata": {},
   "source": [
    "# Ploting all features"
   ]
  },
  {
   "cell_type": "code",
   "execution_count": null,
   "metadata": {},
   "outputs": [],
   "source": [
    "for col in df.columns:\n",
    "    plt.plot(df[col])\n",
    "    plt.title(col)\n",
    "    plt.show()"
   ]
  },
  {
   "cell_type": "code",
   "execution_count": null,
   "metadata": {},
   "outputs": [],
   "source": []
  },
  {
   "cell_type": "code",
   "execution_count": null,
   "metadata": {},
   "outputs": [],
   "source": []
  },
  {
   "cell_type": "code",
   "execution_count": null,
   "metadata": {},
   "outputs": [],
   "source": []
  },
  {
   "cell_type": "code",
   "execution_count": null,
   "metadata": {},
   "outputs": [],
   "source": []
  },
  {
   "cell_type": "code",
   "execution_count": null,
   "metadata": {},
   "outputs": [],
   "source": []
  },
  {
   "cell_type": "code",
   "execution_count": null,
   "metadata": {},
   "outputs": [],
   "source": []
  },
  {
   "cell_type": "code",
   "execution_count": null,
   "metadata": {},
   "outputs": [],
   "source": []
  },
  {
   "cell_type": "code",
   "execution_count": null,
   "metadata": {},
   "outputs": [],
   "source": []
  }
 ],
 "metadata": {
  "kernelspec": {
   "display_name": "Python 3",
   "language": "python",
   "name": "python3"
  },
  "language_info": {
   "codemirror_mode": {
    "name": "ipython",
    "version": 3
   },
   "file_extension": ".py",
   "mimetype": "text/x-python",
   "name": "python",
   "nbconvert_exporter": "python",
   "pygments_lexer": "ipython3",
   "version": "3.6.4"
  }
 },
 "nbformat": 4,
 "nbformat_minor": 2
}
